{
  "nbformat": 4,
  "nbformat_minor": 0,
  "metadata": {
    "colab": {
      "private_outputs": true,
      "provenance": [],
      "authorship_tag": "ABX9TyOobkjBHnZg2SyBimTAWelM",
      "include_colab_link": true
    },
    "kernelspec": {
      "name": "python3",
      "display_name": "Python 3"
    },
    "language_info": {
      "name": "python"
    },
    "accelerator": "GPU",
    "gpuClass": "standard"
  },
  "cells": [
    {
      "cell_type": "markdown",
      "metadata": {
        "id": "view-in-github",
        "colab_type": "text"
      },
      "source": [
        "<a href=\"https://colab.research.google.com/github/nihalnihalani/Python-Code-for-everday-tasks/blob/master/ConsultADD.ipynb\" target=\"_parent\"><img src=\"https://colab.research.google.com/assets/colab-badge.svg\" alt=\"Open In Colab\"/></a>"
      ]
    },
    {
      "cell_type": "markdown",
      "source": [
        "# TASK ONE  NUMBERS AND VARIABLES"
      ],
      "metadata": {
        "id": "GQIqIySegncj"
      }
    },
    {
      "cell_type": "markdown",
      "source": [
        "1. Create three variables in a single line and assign values to them in such a manner that each one of\n",
        "them belongs to a different data type.\n",
        "E.g. :\n",
        "a = 1,\n",
        "b = 2.01,\n",
        "c = 'string'"
      ],
      "metadata": {
        "id": "LUKqKT_HdoH7"
      }
    },
    {
      "cell_type": "code",
      "execution_count": null,
      "metadata": {
        "id": "RLlxPo8AdlFP"
      },
      "outputs": [],
      "source": [
        "a, b, c = 10, 3.14, \"hello\""
      ]
    },
    {
      "cell_type": "markdown",
      "source": [
        "2. Create a variable of type complex and swap it with another variable of type integer."
      ],
      "metadata": {
        "id": "zwmIQwWVdw1t"
      }
    },
    {
      "cell_type": "code",
      "source": [
        "\n",
        "a = 3 + 4j\n",
        "\n",
        "b = 5\n",
        "\n",
        "a, b = b, int(a.real)\n",
        "print(\"a =\", a)  \n",
        "print(\"b =\", b)  \n"
      ],
      "metadata": {
        "id": "mNNA8DLLdxNq"
      },
      "execution_count": null,
      "outputs": []
    },
    {
      "cell_type": "markdown",
      "source": [
        "3. Swap two numbers using a third variable and do the same task without using any third variable."
      ],
      "metadata": {
        "id": "_YcmEboEeBYx"
      }
    },
    {
      "cell_type": "markdown",
      "source": [],
      "metadata": {
        "id": "VClzQzMNgkS7"
      }
    },
    {
      "cell_type": "code",
      "source": [
        "a = 10\n",
        "b = 20\n",
        "print(\"Before swapping: a =\", a, \", b =\", b)\n",
        "\n",
        "temp = a\n",
        "a = b\n",
        "b = temp\n",
        "\n",
        "print(\"After swapping: a =\", a, \", b =\", b)\n",
        "\n",
        "\n",
        "a = a + b\n",
        "b = a - b\n",
        "a = a - b\n",
        "\n",
        "print(\"After swapping without temp: a =\", a, \", b =\", b)"
      ],
      "metadata": {
        "id": "7GRVmm5DeA7t"
      },
      "execution_count": null,
      "outputs": []
    },
    {
      "cell_type": "markdown",
      "source": [
        "4. Write a program that takes input from the user and prints it using both Python 2.x and Python 3.x Version."
      ],
      "metadata": {
        "id": "cSohRypWeaM8"
      }
    },
    {
      "cell_type": "code",
      "source": [
        "# Python 2.x version\n",
        "user_input = raw_input(\"Enter some text: \")\n",
        "print \"You entered:\", user_input\n",
        "\n",
        "# Python 3.x version\n",
        "user_input = input(\"Enter some text: \")\n",
        "print(\"You entered:\", user_input)"
      ],
      "metadata": {
        "id": "GpDgG9gIeapg"
      },
      "execution_count": null,
      "outputs": []
    },
    {
      "cell_type": "markdown",
      "source": [
        "5. Write a program to complete the task given below:\n",
        "Ask users to enter any 2 numbers in between 1-10 , add the two numbers and keep the sum in\n",
        "another variable called z. Add 30 to z and store the output in variable result and print result as the\n",
        "final output."
      ],
      "metadata": {
        "id": "ETg71c96eqDe"
      }
    },
    {
      "cell_type": "code",
      "source": [
        "num1 = int(input(\"Enter the first number (between 1-10): \"))\n",
        "num2 = int(input(\"Enter the second number (between 1-10): \"))\n",
        "\n",
        "\n",
        "z = num1 + num2\n",
        "\n",
        "result = z + 30\n",
        "\n",
        "print(\"The sum of\", num1, \"and\", num2, \"is:\", z)\n",
        "print(\"After adding 30, the result is:\", result)"
      ],
      "metadata": {
        "id": "B2oDG5siepsf"
      },
      "execution_count": null,
      "outputs": []
    },
    {
      "cell_type": "markdown",
      "source": [
        "6. Write a program to check the data type of the entered values.\n",
        "HINT: Printed output should say - The data type of the input value is : int/float/string/etc"
      ],
      "metadata": {
        "id": "vhhUOYnsfDQf"
      }
    },
    {
      "cell_type": "code",
      "source": [
        "value = input(\"Enter a value: \")\n",
        "data_type = type(value)\n",
        "print(\"The data type of the value is:\", data_type)"
      ],
      "metadata": {
        "id": "T62U05tHfC-V"
      },
      "execution_count": null,
      "outputs": []
    },
    {
      "cell_type": "markdown",
      "source": [
        "7. Create Variables using formats such as Upper CamelCase, Lower CamelCase, SnakeCase and\n",
        "UPPERCASE."
      ],
      "metadata": {
        "id": "Ai7KE_gYfM5d"
      }
    },
    {
      "cell_type": "code",
      "source": [
        "#UPPERCAMELCASE\n",
        "MyVariableName = \"This is an example of Upper CamelCase variable naming convention.\"\n",
        "#LOWERCAMELCASE\n",
        "myVariableName = \"This is an example of Lower CamelCase variable naming convention.\"\n",
        "#LOWERSNAKECASE\n",
        "my_variable_name = \"This is an example of SnakeCase variable naming convention.\"\n",
        "#UPPERCASESNAKECASE\n",
        "MY_VARIABLE_NAME = \"This is an example of UPPERCASE variable naming convention.\"\n"
      ],
      "metadata": {
        "id": "JRxaTQgRfLOO"
      },
      "execution_count": null,
      "outputs": []
    },
    {
      "cell_type": "markdown",
      "source": [
        "8. If one data type value is assigned to ‘a’ variable and then a different data type value is assigned to ‘a’\n",
        "again. Will it change the value? If Yes then Why?\n",
        "Yes, assigning a different data type value to a variable will change its value, regardless of the variable name."
      ],
      "metadata": {
        "id": "-Ru0DglvgVIa"
      }
    },
    {
      "cell_type": "code",
      "source": [
        "a = 5\n",
        "print(a)\n",
        "a = \"Hello, World!\"\n",
        "print(a)"
      ],
      "metadata": {
        "id": "PZSM8g8wgWWr"
      },
      "execution_count": null,
      "outputs": []
    },
    {
      "cell_type": "markdown",
      "source": [
        "# TASK TWO OPERATORS AND DECISION MAKING STATEMENT\n",
        "\n",
        "\n"
      ],
      "metadata": {
        "id": "Jpl1SLQ0g0P-"
      }
    },
    {
      "cell_type": "markdown",
      "source": [
        "1. Write a program in Python to perform the following operation:\n",
        "If a number is divisible by 3 it should print “Consultadd” as a string\n",
        "If a number is divisible by 5 it should print “Python Training” as a string\n",
        "If a number is divisible by both 3 and 5 it should print “Consultadd - Python Training” as a\n",
        "string."
      ],
      "metadata": {
        "id": "KsamHup7hFXI"
      }
    },
    {
      "cell_type": "code",
      "source": [
        "num = int(input(\"Enter a number: \"))\n",
        "\n",
        "if num % 3 == 0 and num % 5 == 0:\n",
        "    print(\"Consultadd - Python Training\")\n",
        "elif num % 3 == 0:\n",
        "    print(\"Consultadd\")\n",
        "elif num % 5 == 0:\n",
        "    print(\"Python Training\")\n",
        "else:\n",
        "    print(\"The number is not divisible by 3 or 5.\")"
      ],
      "metadata": {
        "id": "TrbsK5EwhE_8"
      },
      "execution_count": null,
      "outputs": []
    },
    {
      "cell_type": "markdown",
      "source": [
        "2.Write a program in Python to perform the following operator based task: Ask user to choose the following option first:\n",
        "If User Enter 1 - Addition\n",
        "If User Enter 2 - Subtraction\n",
        "If User Enter 3 - Division\n",
        "If User Enter 4 - Multiplication\n",
        "If User Enter 5 - Average"
      ],
      "metadata": {
        "id": "aquHsp6Qk-fn"
      }
    },
    {
      "cell_type": "code",
      "source": [
        "print(\"Choose an operation to perform:\")\n",
        "print(\"1. Addition\")\n",
        "print(\"2. Subtraction\")\n",
        "print(\"3. Division\")\n",
        "print(\"4. Multiplication\")\n",
        "print(\"5. Average\")\n",
        "\n",
        "choice = int(input(\"Enter your choice (1-5): \"))\n",
        "\n",
        "if choice < 1 or choice > 5:\n",
        "    print(\"Invalid choice. Please enter a number between 1 and 5.\")\n",
        "else:\n",
        "    if choice < 5:\n",
        "        num1 = float(input(\"Enter the first number: \"))\n",
        "        num2 = float(input(\"Enter the second number: \"))\n",
        "        if choice == 1:\n",
        "            result = num1 + num2\n",
        "        elif choice == 2:\n",
        "            result = num1 - num2\n",
        "        elif choice == 3:\n",
        "            result = num1 / num2\n",
        "        else:\n",
        "            result = num1 * num2\n",
        "    else:\n",
        "        num1 = float(input(\"Enter the first number: \"))\n",
        "        num2 = float(input(\"Enter the second number: \"))\n",
        "        num3 = float(input(\"Enter the third number: \"))\n",
        "        num4 = float(input(\"Enter the fourth number: \"))\n",
        "        result = (num1 + num2 + num3 + num4) / 4\n",
        "\n",
        "    if result < 0:\n",
        "        print(\"NEGATIVE\")\n",
        "    print(\"The answer is:\", result)"
      ],
      "metadata": {
        "id": "b8DCGxi9k9ZX"
      },
      "execution_count": null,
      "outputs": []
    },
    {
      "cell_type": "markdown",
      "source": [
        "2.Write a program in Python to implement the given flowchart:\n"
      ],
      "metadata": {
        "id": "7QtqrT3kmZ_U"
      }
    },
    {
      "cell_type": "code",
      "source": [
        "# Initializing the variables\n",
        "a = 10\n",
        "b = 20\n",
        "c = 30\n",
        "\n",
        "# Calculating the average\n",
        "avg = (a + b + c) / 3\n",
        "print(\"avg =\", avg)\n",
        "\n",
        "# Checking if the average is greater than a\n",
        "if avg > a:\n",
        "    # Checking if the average is greater than b\n",
        "    if avg > b:\n",
        "        # Checking if the average is greater than c\n",
        "        if avg > c:\n",
        "            print(\"avg is higher than a, b, c\")\n",
        "        else:\n",
        "            print(\"avg is higher than a, b\")\n",
        "    else:\n",
        "        # Checking if the average is greater than c\n",
        "        if avg > c:\n",
        "            print(\"avg is just higher than c\")\n",
        "        else:\n",
        "            print(\"avg is just higher than b\")\n",
        "\n",
        "# Checking if the average is greater than a\n",
        "elif avg > b:\n",
        "    # Checking if the average is greater than c\n",
        "    if avg > c:\n",
        "        print(\"avg is just higher than a\")\n",
        "    else:\n",
        "        print(\"avg is just higher than b\")\n",
        "\n",
        "# Checking if the average is greater than c\n",
        "elif avg > c:\n",
        "    print(\"avg is just higher than a\")\n",
        "else:\n",
        "    print(\"Consultadd\")"
      ],
      "metadata": {
        "id": "ZMh3Fp5zmZp1"
      },
      "execution_count": null,
      "outputs": []
    },
    {
      "cell_type": "markdown",
      "source": [
        "4.Write a program in Python to break and continue if the following cases occurs: If user enters a negative number just break the loop and print “It’s Over”\n",
        "If user enters a positive number just continue in the loop and print “Good Going”"
      ],
      "metadata": {
        "id": "JduNchT6oiK1"
      }
    },
    {
      "cell_type": "code",
      "source": [
        "while True:\n",
        "    num = int(input(\"Enter a number: \"))\n",
        "    if num < 0:\n",
        "        print(\"It's Over\")\n",
        "        break\n",
        "    else:\n",
        "        print(\"Good Going\")\n",
        "        continue"
      ],
      "metadata": {
        "id": "EgB-DRCkohnt"
      },
      "execution_count": null,
      "outputs": []
    },
    {
      "cell_type": "markdown",
      "source": [
        "5.Write a program in Python which will find all such numbers which are divisible by 7 but are not a multiple of 5, between 2000 and 3200."
      ],
      "metadata": {
        "id": "QGxvcZNLo9ad"
      }
    },
    {
      "cell_type": "code",
      "source": [
        "for num in range(2000, 3200):\n",
        "    if num % 7 == 0 and num % 5 != 0:\n",
        "        print(num)"
      ],
      "metadata": {
        "id": "8pd1wVFfo9tB"
      },
      "execution_count": null,
      "outputs": []
    },
    {
      "cell_type": "markdown",
      "source": [
        "6.What will be the output \n",
        "x=123\n",
        "for i in x: \n",
        "  print(i)\n",
        "**  TypeError: 'int' object is not iterable**\n",
        "i = 0\n",
        "\n",
        "while i < 5: \n",
        "  print(i) \n",
        "  i += 1\n",
        "  if i == 3: \n",
        "    break\n",
        "  else:\n",
        "    print(\"error\")   \n",
        "    \n",
        "**0\n",
        "error\n",
        "1\n",
        "error\n",
        "2**\n",
        "\n",
        "count = 0 \n",
        "while True:\n",
        "  print(count) \n",
        "  count += 1\n",
        "  if count >= 5: \n",
        "    break\n",
        "\n",
        "**0\n",
        "1\n",
        "2\n",
        "3\n",
        "4**"
      ],
      "metadata": {
        "id": "y5RPQNQLpNkQ"
      }
    },
    {
      "cell_type": "code",
      "source": [
        "x=123 \n",
        "for i in x: \n",
        "  print(i)\n",
        "\n",
        "\n",
        "\n",
        "i = 0\n",
        "while i < 5: \n",
        "  print(i) \n",
        "  i += 1\n",
        "  if i == 3: \n",
        "    break\n",
        "  else:\n",
        "    print(\"error\")\n",
        "\n",
        "count = 0 \n",
        "while True:\n",
        "  print(count) \n",
        "  count += 1\n",
        "  if count >= 5: \n",
        "    break\n",
        "\n"
      ],
      "metadata": {
        "id": "pUXGKpU3pNGQ"
      },
      "execution_count": null,
      "outputs": []
    },
    {
      "cell_type": "markdown",
      "source": [
        "7. \n",
        "Write a program that prints all the numbers from 0 to 6 except 3 and 6.\n",
        "\\Expected output: 0 1 2 4 5 Note: Use ‘continue’ statement"
      ],
      "metadata": {
        "id": "_hBvjGhnq2A8"
      }
    },
    {
      "cell_type": "code",
      "source": [
        "for i in range(7):\n",
        "    if i == 3 or i == 6:\n",
        "        continue\n",
        "    print(i, end=\" \")"
      ],
      "metadata": {
        "id": "X1EyYX8iq2WR"
      },
      "execution_count": null,
      "outputs": []
    },
    {
      "cell_type": "markdown",
      "source": [
        "8. Write a program that accepts a string as an input from the user and calculate the number of digits and letters.\n",
        "Sample input: consul72\n",
        "\n",
        "Expected output: Letters 6\tDigits 2\n"
      ],
      "metadata": {
        "id": "XnqB9gA_rI67"
      }
    },
    {
      "cell_type": "code",
      "source": [
        "input_str = input(\"Enter a string: \")\n",
        "\n",
        "letter_count = 0\n",
        "digit_count = 0\n",
        "\n",
        "\n",
        "for char in input_str:\n",
        "    if char.isalpha():\n",
        "        letter_count += 1\n",
        "    elif char.isdigit():\n",
        "        digit_count += 1\n",
        "\n",
        "print(\"Letters:\", letter_count, \"\\tDigits:\", digit_count)"
      ],
      "metadata": {
        "id": "-MI0wfDzrIrO"
      },
      "execution_count": null,
      "outputs": []
    },
    {
      "cell_type": "markdown",
      "source": [
        "9.Read the two parts of the question below:\n",
        "\n",
        "\n",
        "\n",
        "1. Write a program such that it asks users to “guess the lucky number”. If the correct number is guessed the program stops, otherwise it continues forever.\n",
        "\n",
        "\n"
      ],
      "metadata": {
        "id": "JjxnVujLrihW"
      }
    },
    {
      "cell_type": "code",
      "source": [
        "lucky_number = 7\n",
        "\n",
        "while True:\n",
        "    guess = int(input(\"Guess the lucky number: \"))\n",
        "    if guess == lucky_number:\n",
        "        print(\"Congratulations! You guessed the lucky number.\")\n",
        "        break"
      ],
      "metadata": {
        "id": "UM2ExBBoruqo"
      },
      "execution_count": null,
      "outputs": []
    },
    {
      "cell_type": "markdown",
      "source": [
        "2.   Modify the program so that it asks users whether they want to guess again each time. Use two variables, ‘number’ for the number and ‘answer’ for the answer to the question whether they want to continue guessing. The program stops if the user guesses the correct number or answers “no”. ( The program continues as long as a user has not answered “no” and has not guessed the correct number)\n"
      ],
      "metadata": {
        "id": "eHDj5cxqrztr"
      }
    },
    {
      "cell_type": "code",
      "source": [
        "lucky_number = 7\n",
        "answer = \"yes\"\n",
        "\n",
        "while answer != \"no\":\n",
        "    guess = int(input(\"Guess the lucky number: \"))\n",
        "    if guess == lucky_number:\n",
        "        print(\"Congratulations! You guessed the lucky number.\")\n",
        "        break\n",
        "    else:\n",
        "        answer = input(\"Do you want to guess again? (yes or no) \")\n"
      ],
      "metadata": {
        "id": "LJJ8LVL7r5RK"
      },
      "execution_count": null,
      "outputs": []
    },
    {
      "cell_type": "markdown",
      "source": [
        "10. Write a program that asks five times to guess the lucky number. Use a while loop and a counter, such as\n",
        "counter=1\n",
        "\n",
        "While counter <= 5:\n",
        "\n",
        "print(“Type in the”, counter, “number” counter=counter+1\n",
        "The program asks for five guesses (no matter whether the correct number was guessed or not). If the\n",
        "correct number is guessed, the program outputs “Good guess!”, otherwise it outputs “Try again!”. After the fifth guess it stops and prints “Game over!”.\n"
      ],
      "metadata": {
        "id": "voToY5DLr8WB"
      }
    },
    {
      "cell_type": "code",
      "source": [
        "lucky_number = 7\n",
        "counter = 1\n",
        "\n",
        "while counter <= 5:\n",
        "   \n",
        "    guess = int(input(\"Type in the {} number: \".format(counter)))\n",
        "    \n",
        "  \n",
        "    if guess == lucky_number:\n",
        "        print(\"Good guess!\")\n",
        "        break \n",
        "    else:\n",
        "        print(\"Try again!\")\n",
        "    \n",
        "\n",
        "    counter += 1\n",
        "\n",
        "print(\"Game over!\")"
      ],
      "metadata": {
        "id": "gaqDZXH0r8BI"
      },
      "execution_count": null,
      "outputs": []
    },
    {
      "cell_type": "markdown",
      "source": [
        "11.In the previous question, insert break after the “Good guess!” print statement. break will terminate the while loop so that users do not have to continue guessing after they found the number. If the user\n",
        "does not guess the number at all, print “Sorry but that was not very successful”.\n"
      ],
      "metadata": {
        "id": "_GlGVGgHr85w"
      }
    },
    {
      "cell_type": "code",
      "source": [
        "counter = 1\n",
        "lucky_number = 7\n",
        "\n",
        "while counter <= 5:\n",
        "    guess = int(input(\"Type in the {} number: \".format(counter)))\n",
        "    if guess == lucky_number:\n",
        "        print(\"Good guess!\")\n",
        "        break\n",
        "    else:\n",
        "        print(\"Try again!\")\n",
        "    counter += 1\n",
        "\n",
        "if counter > 5:\n",
        "    print(\"Sorry but that was not very successful\")\n",
        "else:\n",
        "    print(\"Game over!\")"
      ],
      "metadata": {
        "id": "kXUei17Or8pd"
      },
      "execution_count": null,
      "outputs": []
    },
    {
      "cell_type": "markdown",
      "source": [
        "# TASK THREE DATA STRUCTURES"
      ],
      "metadata": {
        "id": "cEp2NO-Oskhn"
      }
    },
    {
      "cell_type": "markdown",
      "source": [
        "1. Create a list of 10 elements of four different data types like int, string, complex and float.\n",
        "\n"
      ],
      "metadata": {
        "id": "cTbrDzDpsllP"
      }
    },
    {
      "cell_type": "code",
      "source": [
        "my_list = [10, \"hello\", 3+4j, 3.14, \"world\", 5+6j, 2.718, \"python\", 9, 8+9j]"
      ],
      "metadata": {
        "id": "EphgnfNPskFe"
      },
      "execution_count": null,
      "outputs": []
    },
    {
      "cell_type": "markdown",
      "source": [
        "2. Create a list of size 5 and execute the slicing structure\n",
        "\n"
      ],
      "metadata": {
        "id": "WiL8EwBKtO_f"
      }
    },
    {
      "cell_type": "code",
      "source": [
        "my_list = [10, 20, 30, 40, 50]\n",
        "print(my_list[1:4])"
      ],
      "metadata": {
        "id": "vIGzl2Rrtjim"
      },
      "execution_count": null,
      "outputs": []
    },
    {
      "cell_type": "markdown",
      "source": [
        "3. Write a program to get the sum and multiply of all the items in a given list.\n",
        "\n"
      ],
      "metadata": {
        "id": "EBXm3ucNtTJd"
      }
    },
    {
      "cell_type": "code",
      "source": [
        "my_list = [2, 3, 4, 5]\n",
        "sum = 0\n",
        "mul = 1\n",
        "for i in my_list:\n",
        "    sum += i\n",
        "    mul *= i\n",
        "print(\"Sum:\", sum)\n",
        "print(\"Multiplication:\", mul)"
      ],
      "metadata": {
        "id": "tArcqE7TtmRE"
      },
      "execution_count": null,
      "outputs": []
    },
    {
      "cell_type": "markdown",
      "source": [
        "4. Find the largest and smallest number from a given list.\n"
      ],
      "metadata": {
        "id": "kF7xpT8ptUno"
      }
    },
    {
      "cell_type": "code",
      "source": [
        "my_list = [3, 4, 7, 1, 9, 5]\n",
        "largest = max(my_list)\n",
        "smallest = min(my_list)\n",
        "print(\"Largest:\", largest)\n",
        "print(\"Smallest:\", smallest)"
      ],
      "metadata": {
        "id": "TojedFcUtr-0"
      },
      "execution_count": null,
      "outputs": []
    },
    {
      "cell_type": "markdown",
      "source": [
        "\n",
        "5. Create a new list which contains the specified numbers after removing the even numbers from a\n",
        "predefined list.\n"
      ],
      "metadata": {
        "id": "Oz9MEO8AtWUB"
      }
    },
    {
      "cell_type": "code",
      "source": [
        "my_list = [2, 3, 4, 5, 6, 7, 8, 9]\n",
        "new_list = []\n",
        "for i in my_list:\n",
        "    if i % 2 != 0:\n",
        "        new_list.append(i)\n",
        "print(new_list)"
      ],
      "metadata": {
        "id": "emfVkM62tvm8"
      },
      "execution_count": null,
      "outputs": []
    },
    {
      "cell_type": "markdown",
      "source": [
        "\n",
        "6. Create a list of elements such that it contains the squares of the first and last 5 elements between\n",
        "1 and30 (both included)."
      ],
      "metadata": {
        "id": "uZGW11nXtX61"
      }
    },
    {
      "cell_type": "code",
      "source": [
        "my_list = []\n",
        "for i in range(1, 31):\n",
        "    if i <= 5 or i >= 26:\n",
        "        my_list.append(i**2)\n",
        "print(my_list)"
      ],
      "metadata": {
        "id": "W4VmHjgxtzDk"
      },
      "execution_count": null,
      "outputs": []
    },
    {
      "cell_type": "markdown",
      "source": [
        "7. Write a program to replace the last element in a list with another list.\n",
        "Sample input: [1,3,5,7,9,10], [2,4,6,8]\n",
        "Expected output: [1,3,5,7,9,2,4,6,8]\n"
      ],
      "metadata": {
        "id": "WoBIEkKDuN6r"
      }
    },
    {
      "cell_type": "code",
      "source": [
        "list1 = [1,3,5,7,9,10]\n",
        "list2 = [2,4,6,8]\n",
        "list1[-1:] = list2\n",
        "print(list1)\n",
        "\n"
      ],
      "metadata": {
        "id": "wO8beOseub-K"
      },
      "execution_count": null,
      "outputs": []
    },
    {
      "cell_type": "markdown",
      "source": [
        "\n",
        "8. Create a new dictionary by concatenating the following two dictionaries:\n",
        "Sample input: a={1:10,2:20} b={3:30,4:40}\n",
        "Expected output: {1:10,2:20,3:30,4:40}\n",
        "\n"
      ],
      "metadata": {
        "id": "RvQalWfZuQnx"
      }
    },
    {
      "cell_type": "code",
      "source": [
        "a = {1:10,2:20}\n",
        "b = {3:30,4:40}\n",
        "c = {}\n",
        "for d in (a, b):\n",
        "    c.update(d)\n",
        "print(c)"
      ],
      "metadata": {
        "id": "i8IJkOvYulr_"
      },
      "execution_count": null,
      "outputs": []
    },
    {
      "cell_type": "markdown",
      "source": [
        "9. Create a dictionary that contain numbers in the form(x:x*x) where x takes all the values between 1\n",
        "and n(both 1 and n included).\n",
        "Sample input: n=5\n",
        "Expected output: {1:1, 2:4, 3:9, 4:16, 5:25}\n",
        "\n"
      ],
      "metadata": {
        "id": "mmFuz9n9uVQA"
      }
    },
    {
      "cell_type": "code",
      "source": [
        "n = 5\n",
        "dict1 = {i:i*i for i in range(1,n+1)}\n",
        "print(dict1)"
      ],
      "metadata": {
        "id": "AZHThwy_unv9"
      },
      "execution_count": null,
      "outputs": []
    },
    {
      "cell_type": "markdown",
      "source": [
        "10. Write a program which accepts a sequence of comma-separated numbers from console and\n",
        "generates a list and a tuple which contains every number in the form of string.\n",
        "Sample input: 34,67,55,33,12,98\n",
        "Expected output: [‘34’,’67’,’55’,’33’,’12’,’98’] (‘34’,’67’,’55’,’33’,’12’,’98’)"
      ],
      "metadata": {
        "id": "Jm35aVh0uTX1"
      }
    },
    {
      "cell_type": "code",
      "source": [
        "input_string = input(\"Enter comma-separated numbers: \")\n",
        "list1 = input_string.split(\",\")\n",
        "tuple1 = tuple(list1)\n",
        "print(list1)\n",
        "print(tuple1)"
      ],
      "metadata": {
        "id": "o_4-P_bqutbZ"
      },
      "execution_count": null,
      "outputs": []
    },
    {
      "cell_type": "markdown",
      "source": [
        "# TASK FOUR TRADITIONAL FUNCTIONS,ANONYMOUS FUNCTIONS & HIGHER ORDER FUNCTIONS"
      ],
      "metadata": {
        "id": "36AMWRAUu5dp"
      }
    },
    {
      "cell_type": "markdown",
      "source": [
        "1. Write a program to reverse a string.\n",
        "Sample input: “1234abcd”\n",
        "Expected output: “dcba4321”\n"
      ],
      "metadata": {
        "id": "lZhk96yCu-kQ"
      }
    },
    {
      "cell_type": "code",
      "source": [
        "string = \"1234abcd\"\n",
        "reversed_string = string[::-1]\n",
        "print(reversed_string)"
      ],
      "metadata": {
        "id": "Iq5_yDfuu-UW"
      },
      "execution_count": null,
      "outputs": []
    },
    {
      "cell_type": "markdown",
      "source": [
        "\n",
        "\n",
        "2. Write a function that accepts a string and prints the number of uppercase letters and lowercase\n",
        "letters.\n",
        "Sample input: “abcSdefPghijQkl”\n",
        "Expected Output: No. of Uppercase characters : 3 No. of Lower case Characters : 12\n",
        "\n"
      ],
      "metadata": {
        "id": "Qd8IyQDfvHPR"
      }
    },
    {
      "cell_type": "code",
      "source": [
        "def count_upper_lower(string):\n",
        "    upper_count = 0\n",
        "    lower_count = 0\n",
        "    for char in string:\n",
        "        if char.isupper():\n",
        "            upper_count += 1\n",
        "        elif char.islower():\n",
        "            lower_count += 1\n",
        "    print(\"No. of Uppercase characters :\", upper_count)\n",
        "    print(\"No. of Lower case Characters :\", lower_count)\n",
        "string = \"abcSdefPghijQkl\"\n",
        "count_upper_lower(string)"
      ],
      "metadata": {
        "id": "_q_mynoXvT1y"
      },
      "execution_count": null,
      "outputs": []
    },
    {
      "cell_type": "markdown",
      "source": [
        "3. Create a function that takes a list and returns a new list with unique elements of the first list.\n",
        "\n"
      ],
      "metadata": {
        "id": "40s5zlp7vOOz"
      }
    },
    {
      "cell_type": "code",
      "source": [
        "def unique_list(lst):\n",
        "    k=list(set(lst))\n",
        "    return k\n",
        "\n",
        "L1 = [1, 2, 2, 3, 4, 4, 5]\n",
        "uniqueList = list(unique_list(L1))\n",
        "print(uniqueList)"
      ],
      "metadata": {
        "id": "C8n6OskmvUhv"
      },
      "execution_count": null,
      "outputs": []
    },
    {
      "cell_type": "markdown",
      "source": [
        "4. Write a program that accepts a hyphen-separated sequence of words as input and prints the words\n",
        "in a hyphen-separated sequence after sorting them alphabetically.\n",
        "\n"
      ],
      "metadata": {
        "id": "u6AxD2ZEvP1b"
      }
    },
    {
      "cell_type": "code",
      "source": [
        "words = input(\"Enter hyphen-separated words: \")\n",
        "sorted_words = sorted(words.split(\"-\"))\n",
        "result = \"-\".join(sorted_words)\n",
        "print(result)"
      ],
      "metadata": {
        "id": "w-hkrcVcvVQ-"
      },
      "execution_count": null,
      "outputs": []
    },
    {
      "cell_type": "markdown",
      "source": [
        "5. Write a program that accepts a sequence of lines as input and prints the lines after making all\n",
        "characters in the sentence capitalized.\n",
        "Sample input: Hello world Practice makes man perfect\n",
        "Expected output: HELLO WORLD PRACTICE MAKES MAN PERFECT\n"
      ],
      "metadata": {
        "id": "tHK0phBvvRS4"
      }
    },
    {
      "cell_type": "code",
      "source": [
        "lines = input(\"Enter sequence of lines: \")\n",
        "capitalized_lines = lines.upper()\n",
        "print(capitalized_lines)"
      ],
      "metadata": {
        "id": "WZmSiOaLvWHL"
      },
      "execution_count": null,
      "outputs": []
    },
    {
      "cell_type": "markdown",
      "source": [
        "\n",
        "6. Define a function that can receive two integral numbers in string form and compute their sum and\n",
        "print it in the console."
      ],
      "metadata": {
        "id": "eGuG6hALvSiM"
      }
    },
    {
      "cell_type": "code",
      "source": [
        "def sum_str_nums(a, b):\n",
        "    sum = int(a) + int(b)\n",
        "    print(sum)\n",
        "a = \"10\"\n",
        "b = \"20\"\n",
        "sum_str_nums(a, b)"
      ],
      "metadata": {
        "id": "qq9ezgG9vWvx"
      },
      "execution_count": null,
      "outputs": []
    },
    {
      "cell_type": "markdown",
      "source": [
        "7. Define a function that can accept two strings as input and print the string with the maximum length\n",
        "in the console. If two strings have the same length, then the function should print both the strings line\n",
        "by line.\n",
        "\n"
      ],
      "metadata": {
        "id": "e_v7gr8UyHe9"
      }
    },
    {
      "cell_type": "code",
      "source": [
        "def max_length(str1, str2):\n",
        "    if len(str1) > len(str2):\n",
        "        print(str1)\n",
        "    elif len(str2) > len(str1):\n",
        "        print(str2)\n",
        "    else:\n",
        "        print(str1)\n",
        "        print(str2)\n",
        "\n",
        "max_length(\"hello\", \"world\")\n",
        "max_length(\"hi\", \"bye\")\n",
        "max_length(\"apple\", \"orange\")"
      ],
      "metadata": {
        "id": "Saydkm-xylF5"
      },
      "execution_count": null,
      "outputs": []
    },
    {
      "cell_type": "markdown",
      "source": [
        "8. Define a function which can generate and print a tuple where the values are square of numbers\n",
        "between 1 and 20 (both 1 and 20 included).\n"
      ],
      "metadata": {
        "id": "q3cFKV-SyX0i"
      }
    },
    {
      "cell_type": "code",
      "source": [
        "def square_tuple():\n",
        "    squares = []\n",
        "    for i in range(1, 21):\n",
        "        squares.append(i*i)\n",
        "    return tuple(squares)\n",
        "\n",
        "print(square_tuple())"
      ],
      "metadata": {
        "id": "4gTRQRHLylzc"
      },
      "execution_count": null,
      "outputs": []
    },
    {
      "cell_type": "markdown",
      "source": [
        "\n",
        "9. Write a function called showNumbers that takes a parameter called limit. It should print all the\n",
        "numbers between 0 and limit with a label to identify the even and odd numbers.\n",
        "Sample input: show Numbers(3) (where limit=3)\n",
        "Expected output:\n",
        "0 EVEN\n",
        "1 ODD\n",
        "2 EVEN\n",
        "3 ODD\n",
        "\n"
      ],
      "metadata": {
        "id": "a9dsuVUtyZr6"
      }
    },
    {
      "cell_type": "code",
      "source": [
        "def showNumbers(limit):\n",
        "    for i in range(0, limit+1):\n",
        "        if i % 2 == 0:\n",
        "            print(i, \"EVEN\")\n",
        "        else:\n",
        "            print(i, \"ODD\")\n",
        "\n",
        "showNumbers(3)"
      ],
      "metadata": {
        "id": "4Xd-3kqaymis"
      },
      "execution_count": null,
      "outputs": []
    },
    {
      "cell_type": "markdown",
      "source": [
        "10. Write a program which uses filter() to make a list whose elements are even numbers between 1\n",
        "and 20 (both included)\n",
        "\n"
      ],
      "metadata": {
        "id": "d8VO9uBBybpH"
      }
    },
    {
      "cell_type": "code",
      "source": [
        "even_numbers = list(filter(lambda x: x % 2 == 0, range(1,21)))\n",
        "print(even_numbers)"
      ],
      "metadata": {
        "id": "d6DBEFVFynJg"
      },
      "execution_count": null,
      "outputs": []
    },
    {
      "cell_type": "markdown",
      "source": [
        "11. Write a program which uses map() and filter() to make a list whose elements are squares of even\n",
        "numbers in [1,2,3,4,5,6,7,8,9,10].\n",
        "Hints: Use filter() to filter even elements of the given listUse map() to generate a list of squares of the\n",
        "numbers in the filtered list. Use lambda() to define anonymous functions.\n"
      ],
      "metadata": {
        "id": "5PFEbdspyc-l"
      }
    },
    {
      "cell_type": "code",
      "source": [
        "nums = [1,2,3,4,5,6,7,8,9,10]\n",
        "even_squares = list(map(lambda x: x**2, filter(lambda x: x%2 == 0, nums)))\n",
        "print(even_squares)"
      ],
      "metadata": {
        "id": "m2pyM9qTynwv"
      },
      "execution_count": null,
      "outputs": []
    },
    {
      "cell_type": "markdown",
      "source": [
        "\n",
        "12. Write a function to compute 5/0 and use try/except to catch the exceptions\n",
        "\n"
      ],
      "metadata": {
        "id": "h8BavWOgye3a"
      }
    },
    {
      "cell_type": "code",
      "source": [
        "def divide_by_zero():\n",
        "    try:\n",
        "        result = 5/0\n",
        "    except ZeroDivisionError:\n",
        "        print(\"Cannot divide by zero\")\n",
        "\n",
        "divide_by_zero()"
      ],
      "metadata": {
        "id": "K_fV9nn-yogs"
      },
      "execution_count": null,
      "outputs": []
    },
    {
      "cell_type": "markdown",
      "source": [
        "13. Flatten the list [1,2,3,4,5,6,7] into 1234567 using reduce().\n"
      ],
      "metadata": {
        "id": "0fqpCXOkygXZ"
      }
    },
    {
      "cell_type": "code",
      "source": [
        "from functools import reduce\n",
        "\n",
        "lst = [1,2,3,4,5,6,7]\n",
        "result = reduce(lambda x, y: str(x) + str(y), lst)\n",
        "print(result)"
      ],
      "metadata": {
        "id": "L-xrxO9mypPp"
      },
      "execution_count": null,
      "outputs": []
    },
    {
      "cell_type": "markdown",
      "source": [
        "\n",
        "14. Write a program in Python to find the values which are not divisible by 3 but are a multiple of 7.\n",
        "Make sure to use only higher order functions.\n",
        "\n"
      ],
      "metadata": {
        "id": "V2fBbaNxyh6L"
      }
    },
    {
      "cell_type": "code",
      "source": [
        "numbers = range(1, 50)\n",
        "result = list(filter(lambda x: (x % 3 != 0) and (x % 7 == 0), numbers))\n",
        "print(result)\n"
      ],
      "metadata": {
        "id": "5LEDqewRyH6N"
      },
      "execution_count": null,
      "outputs": []
    },
    {
      "cell_type": "markdown",
      "source": [
        "15. Write a program in Python to multiply the elements of a list by itself using a traditional function\n",
        "and pass the function to map() to complete the operation."
      ],
      "metadata": {
        "id": "6oOlMmbwyjRQ"
      }
    },
    {
      "cell_type": "code",
      "source": [
        "def square(n):\n",
        "    return n*n\n",
        "\n",
        "lst = [1, 2, 3, 4, 5]\n",
        "squared_list = list(map(square, lst))\n",
        "print(squared_list)"
      ],
      "metadata": {
        "id": "gRg283isyqHW"
      },
      "execution_count": null,
      "outputs": []
    },
    {
      "cell_type": "markdown",
      "source": [
        "16. What is the output of the following codes:\n",
        "(i) def foo():\n",
        "try:\n",
        "return 1\n",
        "finally:\n",
        "return 2\n",
        "k = foo()\n",
        "print(k)\n",
        "**output is 2**\n",
        "\n",
        "(ii) def a():\n",
        "try:\n",
        "f(x, 4)\n",
        "finally:\n",
        "print('after f')\n",
        "print('after f?')\n",
        "a()\n",
        "\n",
        "**NameError: name 'f' is not defined**"
      ],
      "metadata": {
        "id": "yCKS7yjl1Pfi"
      }
    },
    {
      "cell_type": "code",
      "source": [
        "def foo(): \n",
        "  try: \n",
        "    return 1 \n",
        "  finally: \n",
        "    return 2 \n",
        "k = foo() \n",
        "print(k)\n",
        "\n",
        "\n",
        "def a(): \n",
        "  try: \n",
        "    f(x, 4) \n",
        "  finally: \n",
        "    print('after f') \n",
        "    print('after f?') \n",
        "    \n",
        "a()"
      ],
      "metadata": {
        "id": "4691mKaU1O_3"
      },
      "execution_count": null,
      "outputs": []
    },
    {
      "cell_type": "markdown",
      "source": [
        "# TASK FIVE FILE HANDLING AND EXCEPTION HANDLING"
      ],
      "metadata": {
        "id": "ObO78vEu11Yb"
      }
    },
    {
      "cell_type": "markdown",
      "source": [
        ". Write a program in Python to allow the error of syntax to be handled using exception handling.\n",
        "HINT: Use SyntaxError\n"
      ],
      "metadata": {
        "id": "aJmC5Ltc2JWR"
      }
    },
    {
      "cell_type": "code",
      "source": [
        "try:\n",
        "    # code with syntax error\n",
        "    print('Hello world')\n",
        "except SyntaxError:\n",
        "    # handle syntax error\n",
        "    print('Oops! There was a syntax error.')"
      ],
      "metadata": {
        "id": "zcbtm6hs10nf"
      },
      "execution_count": null,
      "outputs": []
    },
    {
      "cell_type": "markdown",
      "source": [
        "\n",
        "2. Write a program in Python to allow the user to open a file by using the argv module. If the\n",
        "entered name is incorrect throw an exception and ask them to enter the name again. Make sure\n",
        "to use read only mode.\n",
        "\n"
      ],
      "metadata": {
        "id": "qYoz6ury2Qtc"
      }
    },
    {
      "cell_type": "code",
      "source": [
        "import sys\n",
        "\n",
        "while True:\n",
        "    try:\n",
        "        # get filename from command line argument\n",
        "        filename = sys.argv[1]\n",
        "        # open file in read-only mode\n",
        "        with open(filename, 'r') as f:\n",
        "            # do something with file\n",
        "            print(f.read())\n",
        "        # exit while loop if successful\n",
        "        break\n",
        "    except IndexError:\n",
        "        # handle incorrect command line argument\n",
        "        print('Please enter a filename as a command line argument.')\n",
        "    except FileNotFoundError:\n",
        "        # handle file not found error\n",
        "        print('File not found. Please enter a valid filename.')"
      ],
      "metadata": {
        "id": "KE8GtY1e2TdU"
      },
      "execution_count": null,
      "outputs": []
    },
    {
      "cell_type": "markdown",
      "source": [
        "3. Write a program to handle an error if the user entered a number more than four digits it should\n",
        "return “The length is too short/long !!! Please provide only four digits”\n",
        "\n"
      ],
      "metadata": {
        "id": "heTbZAk72TqN"
      }
    },
    {
      "cell_type": "code",
      "source": [
        "while True:\n",
        "    try:\n",
        "        # get number from user input\n",
        "        num = input('Enter a 4-digit number: ')\n",
        "        # check if number is 4 digits long\n",
        "        if len(num) != 4:\n",
        "            raise ValueError('The length is too Short or Long !!! Please provide only four digits')\n",
        "        # exit while loop if successful\n",
        "        break\n",
        "    except ValueError as e:\n",
        "        # handle value error\n",
        "        print(e)"
      ],
      "metadata": {
        "id": "bHuXCAIH2T8J"
      },
      "execution_count": null,
      "outputs": []
    },
    {
      "cell_type": "markdown",
      "source": [
        "\n",
        "4. Create a login page backend to ask users to enter the username and password. Make sure to\n",
        "ask for a Re-Type Password and if the password is incorrect give chance to enter it again but it\n",
        "should not be more than 3 times."
      ],
      "metadata": {
        "id": "tGvxhNB72WBc"
      }
    },
    {
      "cell_type": "code",
      "source": [
        "MAX_ATTEMPTS = 3\n",
        "username = 'user123'\n",
        "password = 'password123'\n",
        "\n",
        "for i in range(MAX_ATTEMPTS):\n",
        "    # get username and password from user input\n",
        "    user_input = input('Enter username:password ')\n",
        "    u, p = user_input.split(':')\n",
        "    # check if username and password are correct\n",
        "    if u == username and p == password:\n",
        "        print('Login successful!')\n",
        "        break\n",
        "    else:\n",
        "        print('Incorrect username or password.')\n",
        "else:\n",
        "    print('Maximum attempts exceeded.')"
      ],
      "metadata": {
        "id": "UxFcdaJY2x9C"
      },
      "execution_count": null,
      "outputs": []
    },
    {
      "cell_type": "markdown",
      "source": [
        "6. Read doc.txt file using Python File handling concept and return only the even length string from\n",
        "the file. Consider the content of doc.txt as given below:\n",
        "Hello I am a file\n",
        "Where you need to return the data string\n",
        "Which is of even length\n",
        "Make sure you return the content in The same link as it is present."
      ],
      "metadata": {
        "id": "x8QH5LS-26pq"
      }
    },
    {
      "cell_type": "code",
      "source": [
        "with open(\"doc.txt\", \"r\") as file:\n",
        "    content = file.read().split()\n",
        "    even_length_words = [word for word in content if len(word) % 2 == 0]\n",
        "    result = \" \".join(even_length_words)\n",
        "\n",
        "print(result)"
      ],
      "metadata": {
        "id": "JzmC2lL827Gi"
      },
      "execution_count": null,
      "outputs": []
    },
    {
      "cell_type": "markdown",
      "source": [
        "# TASK SIX GENERATORS, LIST COMPREHENSION AND DECORATORS"
      ],
      "metadata": {
        "id": "TAw7dlfN3L8U"
      }
    },
    {
      "cell_type": "markdown",
      "source": [
        "1. Write a program in Python to find out the character in a string which is uppercase using list\n",
        "comprehension.\n",
        "\n"
      ],
      "metadata": {
        "id": "PBbdMzfD3MMI"
      }
    },
    {
      "cell_type": "code",
      "source": [
        "string = \"Hello World\"\n",
        "uppercase_chars = [char for char in string if char.isupper()]\n",
        "print(uppercase_chars)"
      ],
      "metadata": {
        "id": "qGQW1s9e3kUf"
      },
      "execution_count": null,
      "outputs": []
    },
    {
      "cell_type": "markdown",
      "source": [
        "2. Write a program to construct a dictionary from the two lists containing the names of students and\n",
        "their corresponding subjects. The dictionary should map the students with their respective subjects.\n",
        "Let’s see how to do this using for loops and dictionary comprehension.\n",
        "HINT - Use Zip function also\n",
        "Sample input: students = ['Smit', 'Jaya', 'Rayyan'] subjects = ['CSE', 'Networking', 'Operating System']\n",
        "Expected output: {‘Smit’ : ’CSE’ , ’Jaya’ : ’Networking’ , ’Rayyan’ : ’Operating System’}\n"
      ],
      "metadata": {
        "id": "Tban2k1N3k4U"
      }
    },
    {
      "cell_type": "code",
      "source": [
        "students = ['Smit', 'Jaya', 'Rayyan']\n",
        "subjects = ['CSE', 'Networking', 'Operating System']\n",
        "\n",
        "# Using dictionary comprehension and zip function\n",
        "student_subject_dict = {key: value for key, value in zip(students, subjects)}\n",
        "\n",
        "print(student_subject_dict)"
      ],
      "metadata": {
        "id": "_cGtXfwA3p-z"
      },
      "execution_count": null,
      "outputs": []
    },
    {
      "cell_type": "markdown",
      "source": [
        "\n",
        "3. Learn More about Yield, next and Generators\n",
        "\n"
      ],
      "metadata": {
        "id": "bu1BGsAm3mIv"
      }
    },
    {
      "cell_type": "code",
      "source": [],
      "metadata": {
        "id": "lTbn5l303qkN"
      },
      "execution_count": null,
      "outputs": []
    },
    {
      "cell_type": "markdown",
      "source": [
        "4. Write a program in Python using generators to reverse the string.\n",
        "Input String = “Consultadd Training”\n",
        "\n"
      ],
      "metadata": {
        "id": "JlnmC8Au3nkZ"
      }
    },
    {
      "cell_type": "code",
      "source": [
        "def reverse_string(string):\n",
        "    for i in range(len(string)-1, -1, -1):\n",
        "        yield string[i]\n",
        "\n",
        "string = \"Consultadd Training\"\n",
        "reverse_gen = reverse_string(string)\n",
        "\n",
        "# Joining the generator to get the reversed string\n",
        "reversed_string = ''.join(reverse_gen)\n",
        "print(reversed_string)"
      ],
      "metadata": {
        "id": "G1xgdlVE3rNL"
      },
      "execution_count": null,
      "outputs": []
    },
    {
      "cell_type": "markdown",
      "source": [
        "5. Write an example on decorators."
      ],
      "metadata": {
        "id": "Rh-kvHJ83o2t"
      }
    },
    {
      "cell_type": "code",
      "source": [
        "import time\n",
        "\n",
        "def time_it(func):\n",
        "        start = time.time()\n",
        "        end = time.time()\n",
        "        print(f\"Function {func.__name__} took {end - start:.5f} seconds to execute\")\n",
        "        return result\n"
      ],
      "metadata": {
        "id": "slOcmHSk3sFc"
      },
      "execution_count": null,
      "outputs": []
    },
    {
      "cell_type": "markdown",
      "source": [
        "# TASK SEVEN CLASSES AND OBJECTS"
      ],
      "metadata": {
        "id": "4vyTA5UK4ULZ"
      }
    },
    {
      "cell_type": "markdown",
      "source": [
        "1. Write a program that calculates and prints the value according to the given formula:\n",
        "Q= Square root of [(2*C*D)/H]\n",
        "Following are the fixed values of C and H:\n",
        "C is 50.\n",
        "H is 30.\n",
        "D is a variable whose values should be input to your program in a comma-separated sequence.\n",
        "\n"
      ],
      "metadata": {
        "id": "9FldgB2J4jXV"
      }
    },
    {
      "cell_type": "code",
      "source": [
        "import math\n",
        "\n",
        "C = 50\n",
        "H = 30\n",
        "\n",
        "# Input comma-separated sequence of values for D\n",
        "d_values = input(\"Enter comma-separated values for D: \")\n",
        "\n",
        "# Split the input values by comma and convert them to integers\n",
        "d_list = list(map(int, d_values.split(\",\")))\n",
        "\n",
        "result = []\n",
        "\n",
        "# Calculate Q for each D and append it to result list\n",
        "for D in d_list:\n",
        "    Q = round(math.sqrt((2 * C * D) / H))\n",
        "    result.append(Q)\n",
        "\n",
        "# Print the result\n",
        "print(\"The result is: \", result)"
      ],
      "metadata": {
        "id": "9NX3_1qa4lSu"
      },
      "execution_count": null,
      "outputs": []
    },
    {
      "cell_type": "markdown",
      "source": [
        "2. Define a class named Shape and its subclass Square. The Square class has an init function which\n",
        "takes length as argument. Both classes have an area function which can print the area of the shape\n",
        "where Shape’s area is 0 by default.\n",
        "\n"
      ],
      "metadata": {
        "id": "L8rtS2qX4j9e"
      }
    },
    {
      "cell_type": "code",
      "source": [
        "class Shape:\n",
        "    def area(self):\n",
        "        return 0\n",
        "\n",
        "\n",
        "class Square(Shape):\n",
        "    def __init__(self, length):\n",
        "        self.length = length\n",
        "\n",
        "    def area(self):\n",
        "        return self.length ** 2"
      ],
      "metadata": {
        "id": "H4iJdMsK4mIF"
      },
      "execution_count": null,
      "outputs": []
    },
    {
      "cell_type": "markdown",
      "source": [
        "3. Create a class to find three elements that sum to zero from a set of n real numbers\n",
        "Input array: [-25,-10,-7,-3,2,4,8,10]\n",
        "Expected output: [[-10,2,8],[-7,-3,10]]\n",
        "\n"
      ],
      "metadata": {
        "id": "Wafa4HBY4kM8"
      }
    },
    {
      "cell_type": "code",
      "source": [
        "class ThreeSum:\n",
        "    def three_sum(self, nums):\n",
        "        nums = sorted(nums)\n",
        "        result = []\n",
        "        for i in range(len(nums) - 2):\n",
        "            if i > 0 and nums[i] == nums[i-1]:\n",
        "                continue\n",
        "            l = i + 1\n",
        "            r = len(nums) - 1\n",
        "            while l < r:\n",
        "                s = nums[i] + nums[l] + nums[r]\n",
        "                if s < 0:\n",
        "                    l += 1\n",
        "                elif s > 0:\n",
        "                    r -= 1\n",
        "                else:\n",
        "                    result.append([nums[i], nums[l], nums[r]])\n",
        "                    while l < r and nums[l] == nums[l+1]:\n",
        "                        l += 1\n",
        "                    while l < r and nums[r] == nums[r-1]:\n",
        "                        r -= 1\n",
        "                    l += 1\n",
        "                    r -= 1\n",
        "        return result\n",
        "\n",
        "# Test the ThreeSum class\n",
        "nums = [-25, -10, -7, -3, 2, 4, 8, 10]\n",
        "three_sum_obj = ThreeSum()\n",
        "print(three_sum_obj.three_sum(nums))"
      ],
      "metadata": {
        "id": "GsDtKlCY5RgG"
      },
      "execution_count": null,
      "outputs": []
    },
    {
      "cell_type": "markdown",
      "source": [
        "4. Create a Time class and initialize it with hours and minutes.\n",
        "Create a method addTime which should take two Time objects and add them.\n",
        "E.g.- (2 hour and 50 min)+(1 hr and 20 min) is (4 hr and 10 min)\n",
        "Create another method displayTime which should print the time.\n",
        "Also create a method displayMinute which should display the total minutes in the Time.\n",
        "E.g.- (1 hr 2 min) should display 62 minute."
      ],
      "metadata": {
        "id": "T46IPrgX4kZp"
      }
    },
    {
      "cell_type": "code",
      "source": [
        "class Time:\n",
        "    def __init__(self, hours, minutes):\n",
        "        self.hours = hours\n",
        "        self.minutes = minutes\n",
        "\n",
        "    def addTime(t1, t2):\n",
        "        minutes = t1.minutes + t2.minutes\n",
        "        hours_in_minutes = (t1.hours + t2.hours) * 60\n",
        "        total_minutes = minutes + hours_in_minutes\n",
        "        hours = total_minutes // 60\n",
        "        minutes = total_minutes % 60\n",
        "        return Time(hours, minutes)\n",
        "\n",
        "    def displayTime(self):\n",
        "        print(\"{} hours and {} minutes\".format(self.hours, self.minutes))\n",
        "\n",
        "    def displayMinute(self):\n",
        "        total_minutes = self.hours * 60 + self.minutes\n",
        "        print(\"Total minutes: \", total_minutes)\n",
        "\n",
        "# Test the Time class\n",
        "t1 = Time(2, 50)\n",
        "t2 = Time(1, 20)\n",
        "\n",
        "t3 = Time.addTime(t1, t2)\n",
        "t3.displayTime()\n",
        "t3.displayMinute()"
      ],
      "metadata": {
        "id": "SiN0v7vK5aEw"
      },
      "execution_count": null,
      "outputs": []
    },
    {
      "cell_type": "markdown",
      "source": [
        "5. Write a Person class with an instance variable “age” and a constructor that takes an integer as a\n",
        "parameter. The constructor must assign the integer value to the age variable after confirming the\n",
        "argument passed is not negative; if a negative argument is passed then the constructor should set\n",
        "age to 0 and print “Age is not valid, setting age to 0”. In addition, you must write the following instance\n",
        "methods:\n",
        "yearPasses() should increase age by the integer value that you are passing inside the function.\n",
        "amIOld() should perform the following conditional actions:If age is between 0 and <13, print “You are young”.\n",
        "If age is >=13 and <=19 , print “You are a teenager”.\n",
        "Otherwise, print “You are old”."
      ],
      "metadata": {
        "id": "xbkslXqn4klB"
      }
    },
    {
      "cell_type": "code",
      "source": [
        "class Person:\n",
        "    def __init__(self, initialAge):\n",
        "        if initialAge < 0:\n",
        "            self.age = 0\n",
        "            print(\"Age is not valid, setting age to 0\")\n",
        "        else:\n",
        "            self.age = initialAge\n",
        "    \n",
        "    def yearPasses(self, years):\n",
        "        self.age += years\n",
        "    \n",
        "    def amIOld(self):\n",
        "        if self.age < 13:\n",
        "            print(\"You are young\")\n",
        "        elif self.age >= 13 and self.age <= 19:\n",
        "            print(\"You are a teenager\")\n",
        "        else:\n",
        "            print(\"You are old\")\n"
      ],
      "metadata": {
        "id": "heu-ob3Z6Gn9"
      },
      "execution_count": null,
      "outputs": []
    }
  ]
}