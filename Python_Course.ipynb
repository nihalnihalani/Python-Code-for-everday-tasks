{
  "nbformat": 4,
  "nbformat_minor": 0,
  "metadata": {
    "colab": {
      "name": "Python Course.ipynb",
      "provenance": [],
      "private_outputs": true,
      "authorship_tag": "ABX9TyNQPNuhz5FuF+kKVtny7UnB",
      "include_colab_link": true
    },
    "kernelspec": {
      "name": "python3",
      "display_name": "Python 3"
    }
  },
  "cells": [
    {
      "cell_type": "markdown",
      "metadata": {
        "id": "view-in-github",
        "colab_type": "text"
      },
      "source": [
        "<a href=\"https://colab.research.google.com/github/nihalnihalani/Python-Code-for-everday-tasks/blob/master/Python_Course.ipynb\" target=\"_parent\"><img src=\"https://colab.research.google.com/assets/colab-badge.svg\" alt=\"Open In Colab\"/></a>"
      ]
    },
    {
      "cell_type": "code",
      "metadata": {
        "id": "bBp6z7cbFJAs",
        "colab_type": "code",
        "colab": {}
      },
      "source": [
        "print(\"Programming in Python is fun!\")"
      ],
      "execution_count": null,
      "outputs": []
    },
    {
      "cell_type": "code",
      "metadata": {
        "id": "GTzW5pURF_rG",
        "colab_type": "code",
        "colab": {}
      },
      "source": [
        "ratio = ((1+5**(1/2))/2)\n",
        "print(ratio)"
      ],
      "execution_count": null,
      "outputs": []
    }
  ]
}